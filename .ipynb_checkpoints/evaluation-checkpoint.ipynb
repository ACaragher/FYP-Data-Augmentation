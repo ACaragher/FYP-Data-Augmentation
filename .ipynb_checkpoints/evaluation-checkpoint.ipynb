{
 "cells": [
  {
   "cell_type": "markdown",
   "id": "45df7fb4",
   "metadata": {},
   "source": [
    "# Evaluation and Results\n",
    "- Evaluation of each of the augmented datasets\n",
    "- Results are compared and contrasted with those of the unaltered dataset"
   ]
  },
  {
   "cell_type": "code",
   "execution_count": 131,
   "id": "21dc98b7",
   "metadata": {},
   "outputs": [],
   "source": [
    "from sklearn.metrics import f1_score\n",
    "from sklearn.metrics import recall_score\n",
    "from sklearn.metrics import precision_score\n",
    "from sklearn.metrics import precision_recall_fscore_support as score\n",
    "\n",
    "import pandas as pd\n",
    "import numpy as np\n",
    "import matplotlib.pyplot as plt\n",
    "import time\n",
    "from random import randrange\n",
    "import rocket\n",
    "import mpdatasets\n",
    "import augmentation as aug\n",
    "from dtw import *"
   ]
  },
  {
   "cell_type": "markdown",
   "id": "52d6d347",
   "metadata": {},
   "source": [
    "<br><br>\n",
    " ### Load the original datasets\n"
   ]
  },
  {
   "cell_type": "code",
   "execution_count": 132,
   "id": "b6fa3a0b",
   "metadata": {},
   "outputs": [],
   "source": [
    "train_x, train_y, test_x, test_y = mpdatasets.load_datasets()"
   ]
  },
  {
   "cell_type": "markdown",
   "id": "a95b7e7f",
   "metadata": {},
   "source": [
    "<br><br>\n",
    "### Generate the augmented datasets using each of the augmentation methods\n",
    "- Generate each of the augmented datasets\n",
    "- The runtime for this is also calculated"
   ]
  },
  {
   "cell_type": "code",
   "execution_count": 133,
   "id": "80b9448f",
   "metadata": {},
   "outputs": [
    {
     "name": "stdout",
     "output_type": "stream",
     "text": [
      "(1426, 36)\n",
      "Reverse Runtime: 16.774161499997717\n"
     ]
    }
   ],
   "source": [
    "rev_tic = time.perf_counter()\n",
    "reversed_train_x = aug.reverse_dataframe(train_x)\n",
    "\n",
    "print(reversed_train_x.shape)\n",
    "\n",
    "reversed_train_x = pd.concat([train_x, reversed_train_x], axis=0)\n",
    "reversed_train_y = np.append(train_y, train_y, axis=0)\n",
    "reversed_test_x = test_x\n",
    "reversed_test_y = test_y\n",
    "\n",
    "print(f\"Reverse Runtime: {time.perf_counter() - rev_tic}\")"
   ]
  },
  {
   "cell_type": "code",
   "execution_count": 134,
   "id": "a866fa47",
   "metadata": {},
   "outputs": [
    {
     "name": "stdout",
     "output_type": "stream",
     "text": [
      "Window Warp Runtime: 1202.6121115999995\n",
      "Padded Runtime: 57.2326752999943\n"
     ]
    }
   ],
   "source": [
    "window_size = len(train_x.iloc[0][0])//10\n",
    "multiplier = 3\n",
    "ww_tic = time.perf_counter()\n",
    "warped_train_x = aug.window_warp(train_x, window_size, multiplier)\n",
    "padded_train_x = aug.pad_series(train_x, window_size, multiplier)\n",
    "\n",
    "warped_train_x = pd.concat([padded_train_x, warped_train_x], axis=0)\n",
    "warped_train_y = np.append(train_y, train_y, axis=0)\n",
    "warped_test_x = aug.pad_series(test_x, window_size, multiplier)\n",
    "warped_test_y = test_y\n",
    "\n",
    "print(f\"Window Warp Runtime: {time.perf_counter() - ww_tic}\")\n",
    "\n",
    "pd_tic = time.perf_counter()\n",
    "padded_train_x = aug.pad_series(train_x, window_size, multiplier)\n",
    "padded_train_x = pd.concat([padded_train_x, padded_train_x], axis=0, ignore_index=True)\n",
    "padded_train_y = np.append(train_y, train_y, axis=0)\n",
    "padded_test_x = aug.pad_series(test_x, window_size, multiplier)\n",
    "padded_test_y = test_y\n",
    "\n",
    "print(f\"Padded Runtime: {time.perf_counter() - pd_tic}\")"
   ]
  },
  {
   "cell_type": "code",
   "execution_count": 135,
   "id": "d2b2105a",
   "metadata": {},
   "outputs": [
    {
     "name": "stdout",
     "output_type": "stream",
     "text": [
      "DTW-Interpolation Runtime: 1481.3587011000054\n"
     ]
    }
   ],
   "source": [
    "dtw_tic = time.perf_counter()\n",
    "\n",
    "dtw_train_x, dtw_train_y = aug.dtw_interpolate(train_x, train_y)\n",
    "dtw_test_x = test_x\n",
    "dtw_test_y = test_y\n",
    "dtw_train_x = pd.concat([train_x, dtw_train_x], axis=0, ignore_index=True)\n",
    "dtw_train_y = np.append(train_y, dtw_train_y, axis=0)\n",
    "\n",
    "print(f\"DTW-Interpolation Runtime: {time.perf_counter() - dtw_tic}\")\n"
   ]
  },
  {
   "cell_type": "markdown",
   "id": "19db1400",
   "metadata": {},
   "source": [
    "#### Print the size of each dataset produced"
   ]
  },
  {
   "cell_type": "code",
   "execution_count": 7,
   "id": "e96e9f18",
   "metadata": {},
   "outputs": [
    {
     "name": "stdout",
     "output_type": "stream",
     "text": [
      "Original: (1426, 36)\n",
      "Reversed: (2852, 36)\n",
      "Warped: (2852, 36)\n",
      "Padded: (2852, 36)\n",
      "DTW: (2848, 36)\n"
     ]
    }
   ],
   "source": [
    "print(f\"Original: {train_x.shape}\\nReversed: {reversed_train_x.shape}\\nWarped: {warped_train_x.shape}\")\n",
    "print(f\"Padded: {padded_train_x.shape}\\nDTW: {dtw_train_x.shape}\")"
   ]
  },
  {
   "cell_type": "markdown",
   "id": "373b84d6",
   "metadata": {},
   "source": [
    "<br><br>\n",
    "### Run ROCKET on each of the datasets\n",
    "- Rocket is ran using each dataset as training samples\n",
    "- The time taken to train ROCKET is also calculated here"
   ]
  },
  {
   "cell_type": "code",
   "execution_count": 146,
   "id": "54358d40",
   "metadata": {},
   "outputs": [
    {
     "name": "stdout",
     "output_type": "stream",
     "text": [
      "[Pipeline] ............ (step 1 of 3) Processing rocket, total= 2.0min\n",
      "[Pipeline] ......... (step 2 of 3) Processing normalise, total=   0.9s\n",
      "[Pipeline] ............. (step 3 of 3) Processing model, total=   1.9s\n",
      "Runtime: 173.24744140000257\n"
     ]
    }
   ],
   "source": [
    "og_tic = time.perf_counter()\n",
    "original_accuracy, original_preds = rocket.run_classifier(train_x, train_y, test_x, test_y)\n",
    "print(f\"Runtime: {time.perf_counter() - og_tic}\")"
   ]
  },
  {
   "cell_type": "code",
   "execution_count": 138,
   "id": "d157aa37",
   "metadata": {},
   "outputs": [
    {
     "name": "stdout",
     "output_type": "stream",
     "text": [
      "[Pipeline] ............ (step 1 of 3) Processing rocket, total= 4.0min\n",
      "[Pipeline] ......... (step 2 of 3) Processing normalise, total=   1.4s\n",
      "[Pipeline] ............. (step 3 of 3) Processing model, total=  11.7s\n",
      "Runtime: 306.3563789000036\n"
     ]
    }
   ],
   "source": [
    "rev_tic = time.perf_counter()\n",
    "reversed_accuracy, reversed_preds = rocket.run_classifier(reversed_train_x, reversed_train_y, reversed_test_x, reversed_test_y)\n",
    "print(f\"Runtime: {time.perf_counter() - rev_tic}\")"
   ]
  },
  {
   "cell_type": "code",
   "execution_count": 139,
   "id": "88beb801",
   "metadata": {},
   "outputs": [
    {
     "name": "stdout",
     "output_type": "stream",
     "text": [
      "[Pipeline] ............ (step 1 of 3) Processing rocket, total= 4.8min\n",
      "[Pipeline] ......... (step 2 of 3) Processing normalise, total=   1.3s\n",
      "[Pipeline] ............. (step 3 of 3) Processing model, total=   9.6s\n",
      "Runtime: 362.65380680000817\n"
     ]
    }
   ],
   "source": [
    "ww_tic = time.perf_counter()\n",
    "warped_accuracy, warped_preds = rocket.run_classifier(warped_train_x, warped_train_y, warped_test_x, warped_test_y)\n",
    "print(f\"Runtime: {time.perf_counter() - ww_tic}\")"
   ]
  },
  {
   "cell_type": "code",
   "execution_count": 140,
   "id": "a016b51c",
   "metadata": {},
   "outputs": [
    {
     "name": "stdout",
     "output_type": "stream",
     "text": [
      "[Pipeline] ............ (step 1 of 3) Processing rocket, total= 4.8min\n",
      "[Pipeline] ......... (step 2 of 3) Processing normalise, total=   1.3s\n",
      "[Pipeline] ............. (step 3 of 3) Processing model, total=   8.8s\n",
      "Runtime: 362.06926669999666\n"
     ]
    }
   ],
   "source": [
    "pd_tic = time.perf_counter()\n",
    "padded_accuracy, padded_preds = rocket.run_classifier(padded_train_x, padded_train_y, padded_test_x, padded_test_y)\n",
    "print(f\"Runtime: {time.perf_counter() - pd_tic}\")"
   ]
  },
  {
   "cell_type": "code",
   "execution_count": 141,
   "id": "0e70140c",
   "metadata": {},
   "outputs": [
    {
     "name": "stdout",
     "output_type": "stream",
     "text": [
      "[Pipeline] ............ (step 1 of 3) Processing rocket, total= 4.0min\n",
      "[Pipeline] ......... (step 2 of 3) Processing normalise, total=   1.3s\n",
      "[Pipeline] ............. (step 3 of 3) Processing model, total=   9.4s\n",
      "Runtime: 303.6038176000002\n"
     ]
    }
   ],
   "source": [
    "dtw_tic = time.perf_counter()\n",
    "dtw_accuracy, dtw_preds = rocket.run_classifier(dtw_train_x, dtw_train_y, dtw_test_x, dtw_test_y)\n",
    "print(f\"Runtime: {time.perf_counter() - dtw_tic}\")"
   ]
  },
  {
   "cell_type": "markdown",
   "id": "3d6c88b5",
   "metadata": {},
   "source": [
    "<br><br>\n",
    "### Display accuracy of each dataset\n",
    "\n",
    "#### Original: \n",
    "85.21008403361344\n",
    "\n",
    "#### Reversed:\n",
    "82.18487394957982\n",
    "\n",
    "#### Warped:\n",
    "85.71428571428571\n",
    "\n",
    "#### Padded:\n",
    "86.05042016806723\n",
    "\n",
    "#### DTW:\n",
    "86.38655462184875\n"
   ]
  },
  {
   "cell_type": "code",
   "execution_count": 15,
   "id": "f929b50e",
   "metadata": {},
   "outputs": [
    {
     "name": "stdout",
     "output_type": "stream",
     "text": [
      "Original: 85.21008403361344\n",
      "Reversed: 82.18487394957982\n",
      "Warped: 85.71428571428571\n",
      "Padded: 86.05042016806723\n",
      "DTW: 86.38655462184875\n"
     ]
    }
   ],
   "source": [
    "print(f\"Original: {original_accuracy}\\nReversed: {reversed_accuracy}\\nWarped: {warped_accuracy}\")\n",
    "print(f\"Padded: {padded_accuracy}\\nDTW: {dtw_accuracy}\")"
   ]
  },
  {
   "cell_type": "markdown",
   "id": "dd9d3fa1",
   "metadata": {},
   "source": [
    "<br><br>\n",
    "### Compute Precision, Recall, and F1-Score for each of the datasets\n",
    "- These three performance metrics are caluclated for each of the datasets"
   ]
  },
  {
   "cell_type": "code",
   "execution_count": 58,
   "id": "53510189",
   "metadata": {},
   "outputs": [],
   "source": [
    "original_precision, original_recall, original_f1, original_support = score(test_y, original_preds, average='macro')"
   ]
  },
  {
   "cell_type": "markdown",
   "id": "bba0b555",
   "metadata": {},
   "source": [
    "#### Original\n",
    "\n",
    "Precision: 0.8547047517371634\n",
    "\n",
    "Recall: 0.8518778801843319\n",
    "\n",
    "F1-Score: 0.8520355370287889\n"
   ]
  },
  {
   "cell_type": "code",
   "execution_count": 59,
   "id": "6eb4cea9",
   "metadata": {},
   "outputs": [
    {
     "name": "stdout",
     "output_type": "stream",
     "text": [
      "Original\n",
      "Precision: 0.8547047517371634\n",
      "Recall: 0.8518778801843319\n",
      "F1-Score: 0.8520355370287889\n"
     ]
    }
   ],
   "source": [
    "print(\"Original\")\n",
    "print(f\"Precision: {original_precision}\")\n",
    "print(f\"Recall: {original_recall}\")\n",
    "print(f\"F1-Score: {original_f1}\")"
   ]
  },
  {
   "cell_type": "code",
   "execution_count": 44,
   "id": "3bb76f5d",
   "metadata": {},
   "outputs": [],
   "source": [
    "reversed_precision, reversed_recall, reversed_f1, reversed_support = score(test_y, reversed_preds, average='macro')"
   ]
  },
  {
   "cell_type": "markdown",
   "id": "e69a0506",
   "metadata": {},
   "source": [
    "#### Reversed\n",
    "\n",
    "Precision: 0.8212856881883188\n",
    "\n",
    "Recall: 0.8207642089093703\n",
    "\n",
    "F1-Score: 0.8198574065174149\n"
   ]
  },
  {
   "cell_type": "code",
   "execution_count": 45,
   "id": "b84d7cb9",
   "metadata": {
    "scrolled": true
   },
   "outputs": [
    {
     "name": "stdout",
     "output_type": "stream",
     "text": [
      "Reversed\n",
      "Precision: 0.8212856881883188\n",
      "Recall: 0.8207642089093703\n",
      "F1-Score: 0.8198574065174149\n"
     ]
    }
   ],
   "source": [
    "print(\"Reversed\")\n",
    "print(f\"Precision: {reversed_precision}\")\n",
    "print(f\"Recall: {reversed_recall}\")\n",
    "print(f\"F1-Score: {reversed_f1}\")"
   ]
  },
  {
   "cell_type": "code",
   "execution_count": 46,
   "id": "48b7e924",
   "metadata": {},
   "outputs": [],
   "source": [
    "warped_precision, warped_recall, warped_f1, warped_support = score(test_y, warped_preds, average='macro')"
   ]
  },
  {
   "cell_type": "markdown",
   "id": "e6b7b620",
   "metadata": {},
   "source": [
    "#### Window Warp\n",
    "\n",
    "Precision: 0.8610955350149521\n",
    "\n",
    "Recall: 0.8570199692780338\n",
    "\n",
    "F1-Score: 0.8568717867383532"
   ]
  },
  {
   "cell_type": "code",
   "execution_count": 47,
   "id": "d3e21fac",
   "metadata": {},
   "outputs": [
    {
     "name": "stdout",
     "output_type": "stream",
     "text": [
      "Window Warp\n",
      "Precision: 0.8610955350149521\n",
      "Recall: 0.8570199692780338\n",
      "F1-Score: 0.8568717867383532\n"
     ]
    }
   ],
   "source": [
    "print(\"Window Warp\")\n",
    "print(f\"Precision: {warped_precision}\")\n",
    "print(f\"Recall: {warped_recall}\")\n",
    "print(f\"F1-Score: {warped_f1}\")"
   ]
  },
  {
   "cell_type": "code",
   "execution_count": 48,
   "id": "21ef44bb",
   "metadata": {},
   "outputs": [],
   "source": [
    "padded_precision, padded_recall, padded_f1, padded_support = score(test_y, padded_preds, average='macro')"
   ]
  },
  {
   "cell_type": "markdown",
   "id": "a2ad2862",
   "metadata": {},
   "source": [
    "#### Padded\n",
    "\n",
    "Precision: 0.8639138340309427\n",
    "\n",
    "Recall: 0.8604723502304148\n",
    "\n",
    "F1-Score: 0.8600626836056275\n"
   ]
  },
  {
   "cell_type": "code",
   "execution_count": 49,
   "id": "91ff1440",
   "metadata": {},
   "outputs": [
    {
     "name": "stdout",
     "output_type": "stream",
     "text": [
      "Padded\n",
      "Precision: 0.8639138340309427\n",
      "Recall: 0.8604723502304148\n",
      "F1-Score: 0.8600626836056275\n"
     ]
    }
   ],
   "source": [
    "print(\"Padded\")\n",
    "print(f\"Precision: {padded_precision}\")\n",
    "print(f\"Recall: {padded_recall}\")\n",
    "print(f\"F1-Score: {padded_f1}\")"
   ]
  },
  {
   "cell_type": "code",
   "execution_count": 86,
   "id": "df0526a6",
   "metadata": {},
   "outputs": [],
   "source": [
    "dtw_precision, dtw_recall, dtw_f1, dtw_support = score(test_y, dtw_preds, average='macro')"
   ]
  },
  {
   "cell_type": "markdown",
   "id": "54e5aa19",
   "metadata": {},
   "source": [
    "#### DTW-Interpolation\n",
    "\n",
    "Precision: 0.8682049923795176\n",
    "\n",
    "Recall: 0.863437019969278\n",
    "\n",
    "F1-Score: 0.8646906071276432"
   ]
  },
  {
   "cell_type": "code",
   "execution_count": 87,
   "id": "6e2278c3",
   "metadata": {},
   "outputs": [
    {
     "name": "stdout",
     "output_type": "stream",
     "text": [
      "DTW-Interpolation\n",
      "Precision: 0.8682049923795176\n",
      "Recall: 0.863437019969278\n",
      "F1-Score: 0.8646906071276432\n"
     ]
    }
   ],
   "source": [
    "print(\"DTW-Interpolation\")\n",
    "print(f\"Precision: {dtw_precision}\")\n",
    "print(f\"Recall: {dtw_recall}\")\n",
    "print(f\"F1-Score: {dtw_f1}\")"
   ]
  },
  {
   "cell_type": "markdown",
   "id": "44474037",
   "metadata": {},
   "source": [
    "<br><br>\n",
    "### Compute Precision, Recall, and F1-Score by class label\n",
    "- The same metrics are then calculated per class label\n",
    "- Values are given in arrays with values in the order of {'Normal', 'Asymmetrical', 'Arch', 'Reduced Range'}"
   ]
  },
  {
   "cell_type": "code",
   "execution_count": 72,
   "id": "eb3f4a69",
   "metadata": {},
   "outputs": [],
   "source": [
    "class_labels = [\"n\",\"a\", \"arch\", \"r\"]\n",
    "original_class_precision, original_class_recall, original_class_f1, original_class_support = score(test_y, original_preds, labels=class_labels)"
   ]
  },
  {
   "cell_type": "markdown",
   "id": "7cccce52",
   "metadata": {},
   "source": [
    "#### Original\n",
    "\n",
    "Precision: [0.8028169  0.97058824 0.81208054 0.83333333]\n",
    "\n",
    "Recall: [0.76       0.88       0.86428571 0.90322581]\n",
    "\n",
    "F1-Score: [0.78082192 0.92307692 0.83737024 0.86687307]"
   ]
  },
  {
   "cell_type": "code",
   "execution_count": 73,
   "id": "a5e36a19",
   "metadata": {},
   "outputs": [
    {
     "name": "stdout",
     "output_type": "stream",
     "text": [
      "Original\n",
      "Precision: [0.8028169  0.97058824 0.81208054 0.83333333]\n",
      "Recall: [0.76       0.88       0.86428571 0.90322581]\n",
      "F1-Score: [0.78082192 0.92307692 0.83737024 0.86687307]\n"
     ]
    }
   ],
   "source": [
    "print(\"Original\")\n",
    "print(f\"Precision: {original_class_precision}\")\n",
    "print(f\"Recall: {original_class_recall}\")\n",
    "print(f\"F1-Score: {original_class_f1}\")"
   ]
  },
  {
   "cell_type": "code",
   "execution_count": 74,
   "id": "3c7ed43e",
   "metadata": {},
   "outputs": [],
   "source": [
    "reversed_class_precision, reversed_class_recall, reversed_class_f1, reversed_class_support = score(test_y, reversed_preds, labels=class_labels)"
   ]
  },
  {
   "cell_type": "code",
   "execution_count": 70,
   "id": "738abfca",
   "metadata": {},
   "outputs": [
    {
     "data": {
      "text/plain": [
       "0.9705882352941176"
      ]
     },
     "execution_count": 70,
     "metadata": {},
     "output_type": "execute_result"
    }
   ],
   "source": [
    "original_class_precision[1]"
   ]
  },
  {
   "cell_type": "markdown",
   "id": "c61f2e43",
   "metadata": {},
   "source": [
    "#### Reversed\n",
    "\n",
    "Precision: [0.76811594 0.90714286 0.76870748 0.84117647]\n",
    "\n",
    "Recall: [0.70666667 0.84666667 0.80714286 0.92258065]\n",
    "\n",
    "F1-Score: [0.73611111 0.87586207 0.78745645 0.88      ]"
   ]
  },
  {
   "cell_type": "code",
   "execution_count": 75,
   "id": "6dc3847b",
   "metadata": {},
   "outputs": [
    {
     "name": "stdout",
     "output_type": "stream",
     "text": [
      "Reversed\n",
      "Precision: [0.76811594 0.90714286 0.76870748 0.84117647]\n",
      "Recall: [0.70666667 0.84666667 0.80714286 0.92258065]\n",
      "F1-Score: [0.73611111 0.87586207 0.78745645 0.88      ]\n"
     ]
    }
   ],
   "source": [
    "print(\"Reversed\")\n",
    "print(f\"Precision: {reversed_class_precision}\")\n",
    "print(f\"Recall: {reversed_class_recall}\")\n",
    "print(f\"F1-Score: {reversed_class_f1}\")"
   ]
  },
  {
   "cell_type": "code",
   "execution_count": 76,
   "id": "55889063",
   "metadata": {},
   "outputs": [],
   "source": [
    "warped_class_precision, warped_class_recall, warped_class_f1, warped_class_support = score(test_y, warped_preds, labels=class_labels)"
   ]
  },
  {
   "cell_type": "markdown",
   "id": "5518bfbf",
   "metadata": {},
   "source": [
    "#### Window Warp\n",
    "\n",
    "Precision: [0.80434783 0.98496241 0.83221477 0.82285714]\n",
    "\n",
    "Recall: [0.74       0.87333333 0.88571429 0.92903226]\n",
    "\n",
    "F1-Score: [0.77083333 0.92579505 0.85813149 0.87272727]\n"
   ]
  },
  {
   "cell_type": "code",
   "execution_count": 84,
   "id": "986664f4",
   "metadata": {},
   "outputs": [
    {
     "name": "stdout",
     "output_type": "stream",
     "text": [
      "Window Warp\n",
      "Precision: [0.80434783 0.98496241 0.83221477 0.82285714]\n",
      "Recall: [0.74       0.87333333 0.88571429 0.92903226]\n",
      "F1-Score: [0.77083333 0.92579505 0.85813149 0.87272727]\n"
     ]
    }
   ],
   "source": [
    "print(\"Window Warp\")\n",
    "print(f\"Precision: {warped_class_precision}\")\n",
    "print(f\"Recall: {warped_class_recall}\")\n",
    "print(f\"F1-Score: {warped_class_f1}\")"
   ]
  },
  {
   "cell_type": "code",
   "execution_count": 80,
   "id": "c49c06ff",
   "metadata": {},
   "outputs": [],
   "source": [
    "padded_class_precision, padded_class_recall, padded_class_f1, padded_class_support = score(test_y, padded_preds, labels=class_labels)"
   ]
  },
  {
   "cell_type": "markdown",
   "id": "2cc08ac1",
   "metadata": {},
   "source": [
    "#### Padded\n",
    "\n",
    "Precision: [0.8115942  0.98496241 0.81699346 0.84210526]\n",
    "\n",
    "Recall: [0.74666667 0.87333333 0.89285714 0.92903226]\n",
    "\n",
    "F1-Score: [0.77777778 0.92579505 0.85324232 0.88343558]\n"
   ]
  },
  {
   "cell_type": "code",
   "execution_count": 85,
   "id": "5be9fe04",
   "metadata": {},
   "outputs": [
    {
     "name": "stdout",
     "output_type": "stream",
     "text": [
      "Padded\n",
      "Precision: [0.8115942  0.98496241 0.81699346 0.84210526]\n",
      "Recall: [0.74666667 0.87333333 0.89285714 0.92903226]\n",
      "F1-Score: [0.77777778 0.92579505 0.85324232 0.88343558]\n"
     ]
    }
   ],
   "source": [
    "print(\"Padded\")\n",
    "print(f\"Precision: {padded_class_precision}\")\n",
    "print(f\"Recall: {padded_class_recall}\")\n",
    "print(f\"F1-Score: {padded_class_f1}\")"
   ]
  },
  {
   "cell_type": "code",
   "execution_count": 82,
   "id": "d14150c0",
   "metadata": {},
   "outputs": [],
   "source": [
    "dtw_class_precision, dtw_class_recall, dtw_class_f1, dtw_class_support = score(test_y, dtw_preds, labels=class_labels)"
   ]
  },
  {
   "cell_type": "markdown",
   "id": "be21a923",
   "metadata": {},
   "source": [
    "#### DTW-Interpolation\n",
    "\n",
    "Precision: [0.79194631 0.96376812 0.8962963  0.82080925]\n",
    "\n",
    "Recall: [0.78666667 0.88666667 0.86428571 0.91612903]\n",
    "\n",
    "F1-Score: [0.78929766 0.92361111 0.88       0.86585366]\n"
   ]
  },
  {
   "cell_type": "code",
   "execution_count": 88,
   "id": "819930ce",
   "metadata": {},
   "outputs": [
    {
     "name": "stdout",
     "output_type": "stream",
     "text": [
      "DTW-Interpolation\n",
      "Precision: [0.79194631 0.96376812 0.8962963  0.82080925]\n",
      "Recall: [0.78666667 0.88666667 0.86428571 0.91612903]\n",
      "F1-Score: [0.78929766 0.92361111 0.88       0.86585366]\n"
     ]
    }
   ],
   "source": [
    "print(\"DTW-Interpolation\")\n",
    "print(f\"Precision: {dtw_class_precision}\")\n",
    "print(f\"Recall: {dtw_class_recall}\")\n",
    "print(f\"F1-Score: {dtw_class_f1}\")"
   ]
  },
  {
   "cell_type": "markdown",
   "id": "b0b829c9",
   "metadata": {},
   "source": [
    "<br><br>\n",
    "### Combining augmented training sets for training classifier\n",
    "- The different permutations of dataset combinations are also examined\n",
    "- After being joined, each combination is used on ROCKET\n",
    "- The accuracy achieved and time taken to train the model are both then output"
   ]
  },
  {
   "cell_type": "markdown",
   "id": "26bfd3a9",
   "metadata": {},
   "source": [
    "#### DTW and Window Warping"
   ]
  },
  {
   "cell_type": "code",
   "execution_count": 111,
   "id": "a9d3cdb4",
   "metadata": {},
   "outputs": [
    {
     "name": "stdout",
     "output_type": "stream",
     "text": [
      "(4274, 36)\n",
      "(4274,)\n"
     ]
    }
   ],
   "source": [
    "padded_dtw = aug.pad_series(dtw_train_x[1426:], window_size, multiplier)\n",
    "ww_dtw_train_x = pd.concat([warped_train_x, padded_dtw], axis=0, ignore_index=True)\n",
    "ww_dtw_train_y = np.append(warped_train_y, dtw_train_y[1426:], axis=0)\n",
    "ww_dtw_test_x = padded_test_x\n",
    "ww_dtw_test_y = test_y\n",
    "print(ww_dtw_train_x.shape)\n",
    "print(ww_dtw_train_y.shape)"
   ]
  },
  {
   "cell_type": "markdown",
   "id": "41a6f3c4",
   "metadata": {},
   "source": [
    "Accuracy: 86.05042016806723"
   ]
  },
  {
   "cell_type": "code",
   "execution_count": 142,
   "id": "8d6ed5a3",
   "metadata": {},
   "outputs": [
    {
     "name": "stdout",
     "output_type": "stream",
     "text": [
      "[Pipeline] ............ (step 1 of 3) Processing rocket, total= 7.3min\n",
      "[Pipeline] ......... (step 2 of 3) Processing normalise, total=   1.9s\n",
      "[Pipeline] ............. (step 3 of 3) Processing model, total=  28.2s\n",
      "Accuracy: 86.05042016806723\n",
      "Time Taken: 532.7566456999921\n"
     ]
    }
   ],
   "source": [
    "dtw_ww_tic = time.perf_counter()\n",
    "ww_dtw_accuracy, ww_dtw_preds = rocket.run_classifier(ww_dtw_train_x, ww_dtw_train_y, ww_dtw_test_x, ww_dtw_test_y)\n",
    "runtime = tic - time.perf_counter()\n",
    "print(f\"Accuracy: {ww_dtw_accuracy}\\nTime Taken: {time.perf_counter() - dtw_ww_tic}\")"
   ]
  },
  {
   "cell_type": "markdown",
   "id": "cc4e9142",
   "metadata": {},
   "source": [
    "<br><br>\n",
    "#### DTW and Reverse"
   ]
  },
  {
   "cell_type": "code",
   "execution_count": 115,
   "id": "7caa3e46",
   "metadata": {},
   "outputs": [
    {
     "name": "stdout",
     "output_type": "stream",
     "text": [
      "(4274, 36)\n",
      "(4274,)\n"
     ]
    }
   ],
   "source": [
    "dtw_rev_train_x = pd.concat([train_x, dtw_train_x[1426:], reversed_train_x[1426:]], axis=0, ignore_index=True)\n",
    "dtw_rev_train_y = np.append(train_y, dtw_train_y[1426:], axis=0)\n",
    "dtw_rev_train_y = np.append(dtw_rev_train_y, reversed_train_y[1426:], axis=0)\n",
    "dtw_rev_test_x = test_x\n",
    "dtw_rev_test_y = test_y\n",
    "print(dtw_rev_train_x.shape)\n",
    "print(dtw_rev_train_y.shape)"
   ]
  },
  {
   "cell_type": "markdown",
   "id": "3bea90ba",
   "metadata": {},
   "source": [
    "Accuracy: 82.52100840336134"
   ]
  },
  {
   "cell_type": "code",
   "execution_count": 143,
   "id": "ac179838",
   "metadata": {},
   "outputs": [
    {
     "name": "stdout",
     "output_type": "stream",
     "text": [
      "[Pipeline] ............ (step 1 of 3) Processing rocket, total= 6.1min\n",
      "[Pipeline] ......... (step 2 of 3) Processing normalise, total=   1.7s\n",
      "[Pipeline] ............. (step 3 of 3) Processing model, total=  25.3s\n",
      "Accuracy: 82.52100840336134\n",
      "Time Taken: 442.42052130000957\n"
     ]
    }
   ],
   "source": [
    "dtw_rev_tic = time.perf_counter()\n",
    "dtw_rev_accuracy, dtw_rev_preds = rocket.run_classifier(dtw_rev_train_x, dtw_rev_train_y, dtw_rev_test_x, dtw_rev_test_y)\n",
    "print(f\"Accuracy: {dtw_rev_accuracy}\\nTime Taken: {time.perf_counter() - dtw_rev_tic}\")"
   ]
  },
  {
   "cell_type": "markdown",
   "id": "64fa3e29",
   "metadata": {},
   "source": [
    "<br><br>\n",
    "#### Window Warp and Reverse"
   ]
  },
  {
   "cell_type": "code",
   "execution_count": 117,
   "id": "a34a7c73",
   "metadata": {},
   "outputs": [
    {
     "name": "stdout",
     "output_type": "stream",
     "text": [
      "(4278, 36)\n",
      "(4278,)\n"
     ]
    }
   ],
   "source": [
    "padded_rev = aug.pad_series(reversed_train_x[1426:], window_size, multiplier)\n",
    "ww_rev_train_x = pd.concat([warped_train_x, padded_rev], axis=0, ignore_index=True)\n",
    "ww_rev_train_y = np.append(warped_train_y, reversed_train_y[1426:], axis=0)\n",
    "ww_rev_test_x = padded_test_x\n",
    "ww_rev_test_y = test_y\n",
    "print(ww_rev_train_x.shape)\n",
    "print(ww_rev_train_y.shape)"
   ]
  },
  {
   "cell_type": "markdown",
   "id": "0d046fc4",
   "metadata": {},
   "source": [
    "Accuracy: 78.82352941176471"
   ]
  },
  {
   "cell_type": "code",
   "execution_count": 144,
   "id": "ee575815",
   "metadata": {},
   "outputs": [
    {
     "name": "stdout",
     "output_type": "stream",
     "text": [
      "[Pipeline] ............ (step 1 of 3) Processing rocket, total= 7.3min\n",
      "[Pipeline] ......... (step 2 of 3) Processing normalise, total=   1.9s\n",
      "[Pipeline] ............. (step 3 of 3) Processing model, total=  26.4s\n",
      "Accuracy: 78.82352941176471\n",
      "Time Taken: 529.6813672999997\n"
     ]
    }
   ],
   "source": [
    "ww_rev_tic = time.perf_counter()\n",
    "ww_rev_accuracy, ww_rev_preds = rocket.run_classifier(ww_rev_train_x, ww_rev_train_y, ww_rev_test_x, ww_rev_test_y)\n",
    "print(f\"Accuracy: {ww_rev_accuracy}\\nTime Taken: {time.perf_counter() - ww_rev_tic}\")"
   ]
  },
  {
   "cell_type": "markdown",
   "id": "6cbc09c9",
   "metadata": {},
   "source": [
    "#### DTW and Window Warp and Reverse"
   ]
  },
  {
   "cell_type": "code",
   "execution_count": 119,
   "id": "a8053667",
   "metadata": {},
   "outputs": [
    {
     "name": "stdout",
     "output_type": "stream",
     "text": [
      "(5700, 36)\n",
      "(5700,)\n"
     ]
    }
   ],
   "source": [
    "padded_reversed = aug.pad_series(reversed_train_x[1426:], window_size, multiplier)\n",
    "trio_train_x = pd.concat([warped_train_x, padded_dtw, padded_reversed], axis=0, ignore_index=True)\n",
    "trio_train_y = np.append(ww_dtw_train_y, reversed_train_y[1426:], axis=0)\n",
    "trio_test_x = padded_test_x\n",
    "trio_test_y = test_y\n",
    "print(trio_train_x.shape)\n",
    "print(trio_train_y.shape)"
   ]
  },
  {
   "cell_type": "markdown",
   "id": "d601c8e3",
   "metadata": {},
   "source": [
    "Accuracy: 83.19327731092437"
   ]
  },
  {
   "cell_type": "code",
   "execution_count": 145,
   "id": "3288b358",
   "metadata": {},
   "outputs": [
    {
     "name": "stdout",
     "output_type": "stream",
     "text": [
      "[Pipeline] ............ (step 1 of 3) Processing rocket, total= 9.8min\n",
      "[Pipeline] ......... (step 2 of 3) Processing normalise, total=   2.4s\n",
      "[Pipeline] ............. (step 3 of 3) Processing model, total=  56.2s\n",
      "Accuracy: 83.19327731092437\n",
      "Time Taken: 705.7330419999926\n"
     ]
    }
   ],
   "source": [
    "trio_tic = time.perf_counter()\n",
    "trio_accuracy, trio_preds = rocket.run_classifier(trio_train_x, trio_train_y, trio_test_x, trio_test_y)\n",
    "print(f\"Accuracy: {trio_accuracy}\\nTime Taken: {time.perf_counter() - trio_tic}\")"
   ]
  }
 ],
 "metadata": {
  "kernelspec": {
   "display_name": "Python 3 (ipykernel)",
   "language": "python",
   "name": "python3"
  },
  "language_info": {
   "codemirror_mode": {
    "name": "ipython",
    "version": 3
   },
   "file_extension": ".py",
   "mimetype": "text/x-python",
   "name": "python",
   "nbconvert_exporter": "python",
   "pygments_lexer": "ipython3",
   "version": "3.8.16"
  }
 },
 "nbformat": 4,
 "nbformat_minor": 5
}
